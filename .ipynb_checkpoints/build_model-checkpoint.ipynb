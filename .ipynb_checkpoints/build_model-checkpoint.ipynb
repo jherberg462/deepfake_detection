{
 "cells": [
  {
   "cell_type": "code",
   "execution_count": 1,
   "metadata": {},
   "outputs": [],
   "source": [
    "import pandas as pd\n",
    "import numpy as np\n",
    "import boto3\n",
    "from splinter import Browser\n",
    "from zipfile import ZipFile \n",
    "import os\n",
    "import time\n",
    "import requests\n",
    "import json\n",
    "import skvideo.io as sk\n",
    "from sklearn.model_selection import train_test_split\n",
    "from skimage.transform import resize\n",
    "from tensorflow.python import keras\n",
    "from tensorflow.python.keras.models import Sequential\n",
    "from tensorflow.python.keras.layers import Dense, Flatten, Conv2D, Dropout\n",
    "#sensitive variables in config.py file that is on .gitignore\n",
    "from config import key_, secret_, s3_bucket, kaggle_cookie\n"
   ]
  },
  {
   "cell_type": "code",
   "execution_count": 2,
   "metadata": {},
   "outputs": [],
   "source": [
    "#explore meta.json file\n",
    "with open('meta.json') as m:\n",
    "    meta = json.load(m)\n",
    "video_and_labels = {}\n",
    "video_label_only = {}\n",
    "for video in meta:\n",
    "    video_and_labels[video] = meta[video]\n",
    "    video_label_only[video] = meta[video]['label']"
   ]
  },
  {
   "cell_type": "code",
   "execution_count": 3,
   "metadata": {},
   "outputs": [],
   "source": [
    "response = sk.vread('vid.mp4')"
   ]
  },
  {
   "cell_type": "code",
   "execution_count": 4,
   "metadata": {},
   "outputs": [
    {
     "data": {
      "text/plain": [
       "(300, 1080, 1920, 3)"
      ]
     },
     "execution_count": 4,
     "metadata": {},
     "output_type": "execute_result"
    }
   ],
   "source": [
    "response.shape"
   ]
  },
  {
   "cell_type": "code",
   "execution_count": 5,
   "metadata": {},
   "outputs": [],
   "source": [
    "#may want to consider changing the array to a video file name/path and incorporate opeing the video in this function\n",
    "def preprocess_video(video_array, max_size=315):\n",
    "    '''\n",
    "    takes a video array as an input, and returns an array with each 10th frame (strating from the 9th), along with\n",
    "    the difference between the frame in question and the 3 and 5th frame back and forward\n",
    "    function will crop the video into a box format by cropping the center of the video and resizing into a 315x315 \n",
    "    pixel video\n",
    "    '''\n",
    "    num_frames_div_10 = len(video_array)/10\n",
    "    num_rounds = num_frames_div_10 -1\n",
    "    round_num = 0\n",
    "    frame_list = []\n",
    "    num_frames, x_pixel, y_pixel, _ = video_array.shape\n",
    "    min_pixel = min(x_pixel, y_pixel)\n",
    "    x_pixel_max = int((x_pixel/2) + (min_pixel/2))\n",
    "    y_pixel_max = int((y_pixel/2) + (min_pixel/2))\n",
    "    x_pixel_min = int((x_pixel/2) - (min_pixel/2))\n",
    "    y_pixel_min = int((y_pixel/2) - (min_pixel/2))\n",
    "    video_box_shape = video_array[:, x_pixel_min, x_pixel_max, y_pixel_min:y_pixel_max,:]\n",
    "    for x in np.arange(0, len(video_array)):            \n",
    "        if x % 10 == 9:\n",
    "            if round_num < num_rounds:\n",
    "                frame_sized = resize(video_box_shape[x], max_size, max_size)\n",
    "                back_3 = resize(video_box_shape[x-3], max_size, max_size)\n",
    "                back_5 = resize(video_box_shape[x-5], max_size, max_size)\n",
    "                forward_3 = resize(video_box_shape[x + 3], max_size, max_size)\n",
    "                forward_5 = resize(video_box_shape[x + 5], max_size, max_size)\n",
    "                minus_3 = np.array(abs(frame_sized - back_3))\n",
    "                minus_5 = np.array(abc(frame_sized - back_5))\n",
    "                plus_3 = np.array(abs(frame_sized - forward_3))\n",
    "                plus_5 = np.array(abs(frame_sized - forward_5))\n",
    "                frame_list.append([minus_3, minus_5, plus_3, plus_5, frame_sized])\n",
    "                round_num += 1\n",
    "            else:\n",
    "                pass\n",
    "    frame_list = np.array(frame_list)\n",
    "    return frame_list\n"
   ]
  },
  {
   "cell_type": "code",
   "execution_count": null,
   "metadata": {},
   "outputs": [],
   "source": []
  }
 ],
 "metadata": {
  "kernelspec": {
   "display_name": "Python 3",
   "language": "python",
   "name": "python3"
  },
  "language_info": {
   "codemirror_mode": {
    "name": "ipython",
    "version": 3
   },
   "file_extension": ".py",
   "mimetype": "text/x-python",
   "name": "python",
   "nbconvert_exporter": "python",
   "pygments_lexer": "ipython3",
   "version": "3.7.3"
  }
 },
 "nbformat": 4,
 "nbformat_minor": 2
}
