{
 "cells": [
  {
   "cell_type": "code",
   "execution_count": null,
   "metadata": {},
   "outputs": [],
   "source": [
    "import pandas as pd\n",
    "import numpy as np\n",
    "import boto3\n",
    "import cv2 as cv\n",
    "import os\n",
    "import json\n",
    "from config import key_, secret_, s3_bucket, kaggle_cookie"
   ]
  },
  {
   "cell_type": "code",
   "execution_count": null,
   "metadata": {},
   "outputs": [],
   "source": [
    "def download_video_from_s3_bucket(video_name, aws_key=key_, aws_secret=secret_, bucket=s3_bucket):\n",
    "    '''\n",
    "    ##Intended for use when not using Sagemaker##\n",
    "    takes a video name as input, and returns the frame count, and the shape of the first frame of the video\n",
    "    '''\n",
    "    s3 = boto3.client('s3',\n",
    "                      aws_access_key_id=key_, \n",
    "                      aws_secret_access_key=secret_,\n",
    "                      region_name='us-east-2', #region is hardcoded - this is not a security risk to keep public\n",
    "                      config= boto3.session.Config(signature_version='s3v4')) #the sig version needs to be s3v4 or the url will error\n",
    "    video_url = s3.generate_presigned_url('get_object',\n",
    "                                        Params={\"Bucket\": bucket,\n",
    "                                               'Key': video_name},\n",
    "                                        ExpiresIn=60)\n",
    "    video = cv.VideoCapture(video_url)\n",
    "    frame_count = int(video.get(cv.CAP_PROP_FRAME_COUNT))\n",
    "    _, frame_array = video.read()\n",
    "    frame_x, frame_y, RGB = frame_array.shape\n",
    "    video.release()\n",
    "    return video_name, frame_count, frame_x, frame_y, RGB"
   ]
  },
  {
   "cell_type": "code",
   "execution_count": null,
   "metadata": {},
   "outputs": [],
   "source": []
  },
  {
   "cell_type": "code",
   "execution_count": null,
   "metadata": {},
   "outputs": [],
   "source": [
    "with open('meta.json') as m:\n",
    "    meta = json.load(m)"
   ]
  },
  {
   "cell_type": "code",
   "execution_count": null,
   "metadata": {},
   "outputs": [],
   "source": [
    "video_names = []\n",
    "frame_counts = []\n",
    "x_shapes = []\n",
    "y_shapes = []\n",
    "RGB_shapes = []"
   ]
  },
  {
   "cell_type": "code",
   "execution_count": null,
   "metadata": {},
   "outputs": [],
   "source": [
    "for video in meta:\n",
    "    video_, frames, x_frames, y_frames, RGB = download_video_from_s3_bucket\n",
    "    video_names.append(video_)\n",
    "    frame_counts.append(frames)\n",
    "    x_shapes.append(x_frames)\n",
    "    y_shapes.append(y_frames)\n",
    "    RGB_shapes.append(RGB)"
   ]
  },
  {
   "cell_type": "code",
   "execution_count": null,
   "metadata": {},
   "outputs": [],
   "source": [
    "video_information_dictionary = {'video_names': video_names, 'number_of_frames': frame_counts, \n",
    "                               'number_of_x_pixels': x_shapes, 'number_of_y_pixels': y_shapes,\n",
    "                               'RGB': RGB_shapes}"
   ]
  },
  {
   "cell_type": "code",
   "execution_count": null,
   "metadata": {},
   "outputs": [],
   "source": [
    "video_info_df = pd.DataFrame(video_information_dictionary)"
   ]
  },
  {
   "cell_type": "code",
   "execution_count": null,
   "metadata": {},
   "outputs": [],
   "source": [
    "video_info_df.to_csv('video_information.csv')"
   ]
  },
  {
   "cell_type": "code",
   "execution_count": null,
   "metadata": {},
   "outputs": [],
   "source": [
    "s3 = boto3.client('s3', aws_access_key_id=key_, aws_secret_access_key=secret_)"
   ]
  },
  {
   "cell_type": "code",
   "execution_count": null,
   "metadata": {},
   "outputs": [],
   "source": [
    "s3.upload_file('video_information.csv', s3_bucket, 'video_information.csv')"
   ]
  }
 ],
 "metadata": {
  "kernelspec": {
   "display_name": "Python 3",
   "language": "python",
   "name": "python3"
  },
  "language_info": {
   "codemirror_mode": {
    "name": "ipython",
    "version": 3
   },
   "file_extension": ".py",
   "mimetype": "text/x-python",
   "name": "python",
   "nbconvert_exporter": "python",
   "pygments_lexer": "ipython3",
   "version": "3.7.3"
  }
 },
 "nbformat": 4,
 "nbformat_minor": 2
}
