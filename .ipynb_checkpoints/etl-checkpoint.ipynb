{
 "cells": [
  {
   "cell_type": "code",
   "execution_count": null,
   "metadata": {},
   "outputs": [],
   "source": [
    "import pandas as pd\n",
    "import numpy as np\n",
    "import boto3\n",
    "from splinter import Browser\n",
    "from zipfile import ZipFile \n",
    "import os\n",
    "import time\n",
    "import requests\n",
    "#sensitive variables in config.py file that is on .gitignore\n",
    "from config import key_, secret_, s3_bucket, kaggle_cookie"
   ]
  },
  {
   "cell_type": "code",
   "execution_count": null,
   "metadata": {},
   "outputs": [],
   "source": [
    "executable_path = {'executable_path': '/usr/local/bin/chromedriver'}\n",
    "browser = Browser('chrome', **executable_path, headless=False)"
   ]
  },
  {
   "cell_type": "code",
   "execution_count": null,
   "metadata": {},
   "outputs": [],
   "source": []
  },
  {
   "cell_type": "code",
   "execution_count": null,
   "metadata": {},
   "outputs": [],
   "source": [
    "#look into using requests, and a login cookie vs splinter\n",
    "url = 'http://www.kaggle.com'\n",
    "browser.visit(url)\n",
    "#you will have two minutes to manually login before the script will attempt to start downloading\n",
    "time.sleep(120)"
   ]
  },
  {
   "cell_type": "code",
   "execution_count": null,
   "metadata": {},
   "outputs": [],
   "source": [
    "def zip_file(number):\n",
    "    num = str(number, s3, bucket=s3_bucket)\n",
    "    if number < 10:\n",
    "        url = f'https://www.kaggle.com/c/16880/datadownload/dfdc_train_part_0{num}.zip'\n",
    "        file_path = f'/Users/jeremiahherberg/Downloads/dfdc_train_part_0{num}.zip'\n",
    "    else:\n",
    "        url = f'https://www.kaggle.com/c/16880/datadownload/dfdc_train_part_{num}.zip'\n",
    "        file_path = f'/Users/jeremiahherberg/Downloads/dfdc_train_part_{num}.zip'\n",
    "    browser.visit(url)\n",
    "    time.sleep(420)\n",
    "    try:\n",
    "        with ZipFile(file_path, 'r') as zip:\n",
    "            zip.extractall(path='../deepfake/videos/')\n",
    "    except:\n",
    "        time.sleep(120)\n",
    "        try:\n",
    "            with ZipFile(file_path, 'r') as zip:\n",
    "                zip.extractall(path='../deepfake/videos/')\n",
    "        except:\n",
    "            time.sleep(180)\n",
    "            with ZipFile(file_path, 'r') as zip:\n",
    "                zip.extractall(path='../deepfake/videos/')\n",
    "    meta_file = f'dfdc_train_part_{num}/metadata.json'\n",
    "    with ZipFile(file_path, 'r') as zip:\n",
    "        zip.extract(meta_file, path='../deepfake/data/')\n",
    "    video_dir = f'videos/dfdc_train_part_{num}'\n",
    "    video_list = os.listdir(video_dir)\n",
    "    for video in video_list:\n",
    "        s3.upload_file(f'{video_dir}/{video}', bucket, video)\n",
    "        os.remove(f'{video_dir}/{video}')\n",
    "    return file_path\n",
    "        \n",
    "        "
   ]
  },
  {
   "cell_type": "code",
   "execution_count": null,
   "metadata": {},
   "outputs": [],
   "source": [
    "def combine_meta(num_start, num_end=0, aws_key=key_, aws_secret=secret_, bucket=s3_bucket):\n",
    "    '''\n",
    "    calls the zip file function and combines the meta files\n",
    "    also uploads the new meta file to a bucket \n",
    "    '''\n",
    "    if num_end == 0:\n",
    "        num_end = num_start +1\n",
    "    else:\n",
    "        num_end +=1\n",
    "    s3 = boto3.client('s3', aws_access_key_id=aws_key, aws_secret_access_key=aws_secret)\n",
    "    meta_dictionary = {}\n",
    "    for num in np.arange(num_start, num_end):\n",
    "        path_of_zip_file = zip_file(num, s3)\n",
    "        file_path = f'../deepfake/data/dfdc_train_part_{num}/metadata.json'\n",
    "        with open (file_path) as meta:\n",
    "            meta_data = json.load(meta)\n",
    "        for video in meta_data:\n",
    "            meta_dictionary[video] = meta_data[video]\n",
    "        with open('meta.json', 'w') as d:\n",
    "            json.dump(meta, d)\n",
    "        os.remove(path_of_zip_file)\n",
    "    #upload final meta_data file\n",
    "    s3.upload_file('meta.json', bucket, 'meta.json')\n",
    "    "
   ]
  },
  {
   "cell_type": "code",
   "execution_count": null,
   "metadata": {},
   "outputs": [],
   "source": [
    "##\n",
    "#don't believe this is needed anymore\n",
    "\n",
    "# def get_meta_data(number):\n",
    "#     num = str(number)\n",
    "#     if number < 10:\n",
    "#         url = f'https://www.kaggle.com/c/16880/datadownload/dfdc_train_part_0{num}.zip'\n",
    "#         file_path = f'/Users/jeremiahherberg/Downloads/dfdc_train_part_0{num}.zip'\n",
    "#     else:\n",
    "#         url = f'https://www.kaggle.com/c/16880/datadownload/dfdc_train_part_{num}.zip'\n",
    "#         file_path = f'/Users/jeremiahherberg/Downloads/dfdc_train_part_{num}.zip'\n",
    "#     browser.visit(url)\n",
    "#     time.sleep(420)\n",
    "#     meta_file = f'dfdc_train_part_{num}/metadata.json'\n",
    "#     try:\n",
    "#         with ZipFile(file_path, 'r') as zip:\n",
    "#             zip.extract(meta_file, path='../deepfake/data/')\n",
    "#     except:\n",
    "#         time.sleep(120)\n",
    "#         try:\n",
    "#             with ZipFile(file_path, 'r') as zip:\n",
    "#                 zip.extract(meta_file, path='../deepfake/data/')\n",
    "#         except:\n",
    "#             time.sleep(180)\n",
    "#             with ZipFile(file_path, 'r') as zip:\n",
    "#                 zip.extract(meta_file, path='../deepfake/data/')\n",
    "#     os.remove(file_path)"
   ]
  },
  {
   "cell_type": "code",
   "execution_count": null,
   "metadata": {},
   "outputs": [],
   "source": [
    "combine_meta(0, 49)"
   ]
  },
  {
   "cell_type": "code",
   "execution_count": null,
   "metadata": {},
   "outputs": [],
   "source": []
  },
  {
   "cell_type": "code",
   "execution_count": null,
   "metadata": {},
   "outputs": [],
   "source": [
    "#need to unzip the \"1\" metadata file\n",
    "#make sure the 0 file is uploaded\n",
    "#same with the 1 and 2"
   ]
  }
 ],
 "metadata": {
  "kernelspec": {
   "display_name": "Python 3",
   "language": "python",
   "name": "python3"
  },
  "language_info": {
   "codemirror_mode": {
    "name": "ipython",
    "version": 3
   },
   "file_extension": ".py",
   "mimetype": "text/x-python",
   "name": "python",
   "nbconvert_exporter": "python",
   "pygments_lexer": "ipython3",
   "version": "3.7.3"
  }
 },
 "nbformat": 4,
 "nbformat_minor": 2
}
