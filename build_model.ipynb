{
 "cells": [
  {
   "cell_type": "code",
   "execution_count": null,
   "metadata": {},
   "outputs": [],
   "source": [
    "import pandas as pd\n",
    "import numpy as np\n",
    "import boto3\n",
    "from splinter import Browser\n",
    "from zipfile import ZipFile \n",
    "import os\n",
    "import time\n",
    "import requests\n",
    "import random \n",
    "import json\n",
    "# import io - don't think will use this library\n",
    "import skvideo.io as sk\n",
    "from sklearn.model_selection import train_test_split\n",
    "from skimage.transform import resize\n",
    "from tensorflow.python import keras\n",
    "from tensorflow.python.keras.models import Sequential\n",
    "from tensorflow.python.keras.layers import Dense, Flatten, Conv2D, Dropout, Activation\n",
    "from keras.utils import to_categorical\n",
    "#sensitive variables in config.py file that is on .gitignore\n",
    "from config import key_, secret_, s3_bucket, kaggle_cookie\n"
   ]
  },
  {
   "cell_type": "code",
   "execution_count": null,
   "metadata": {},
   "outputs": [],
   "source": [
    "#sagemaker dependencies\n",
    "from sagemaker import get_execution_role\n",
    "role = get_execution_role()\n",
    "\n",
    "region = boto3.Session().region_name\n",
    "\n",
    "s3_bucket='myBucket' # Replace with your s3 bucket name\n"
   ]
  },
  {
   "cell_type": "code",
   "execution_count": null,
   "metadata": {},
   "outputs": [],
   "source": [
    "#explore meta.json file\n",
    "with open('meta.json') as m:\n",
    "    meta = json.load(m)\n",
    "video_and_labels = {}\n",
    "video_label_only = {}\n",
    "for video in meta:\n",
    "    video_and_labels[video] = meta[video]\n",
    "    video_label_only[video] = meta[video]['label']"
   ]
  },
  {
   "cell_type": "code",
   "execution_count": null,
   "metadata": {},
   "outputs": [],
   "source": []
  },
  {
   "cell_type": "code",
   "execution_count": null,
   "metadata": {},
   "outputs": [],
   "source": []
  },
  {
   "cell_type": "code",
   "execution_count": null,
   "metadata": {},
   "outputs": [],
   "source": [
    "#may want to consider changing the array to a video file name/path and incorporate opeing the video in this function\n",
    "def preprocess_video(video_array, max_size=315):\n",
    "    '''\n",
    "    takes a video array as an input, and returns an array with each 10th frame (strating from the 9th), along with\n",
    "    the difference between the frame in question and the 3 and 5th frame back and forward\n",
    "    function will crop the video into a box format by cropping the center of the video and resizing into a 315x315 \n",
    "    pixel video\n",
    "    '''\n",
    "    num_frames_div_10 = len(video_array)/10\n",
    "    num_rounds = num_frames_div_10 -1\n",
    "    round_num = 0\n",
    "    frame_list = []\n",
    "    num_frames, x_pixel, y_pixel, _ = video_array.shape\n",
    "    min_pixel = min(x_pixel, y_pixel)\n",
    "    x_pixel_max = int((x_pixel/2) + (min_pixel/2))\n",
    "    y_pixel_max = int((y_pixel/2) + (min_pixel/2))\n",
    "    x_pixel_min = int((x_pixel/2) - (min_pixel/2))\n",
    "    y_pixel_min = int((y_pixel/2) - (min_pixel/2))\n",
    "    video_box_shape = video_array[:, x_pixel_min: x_pixel_max, y_pixel_min:y_pixel_max,:]\n",
    "    for x in np.arange(0, len(video_array)):            \n",
    "        if x % 10 == 9:\n",
    "            if round_num < num_rounds:\n",
    "                frame_sized = resize(video_box_shape[x], [max_size, max_size])\n",
    "                back_3 = resize(video_box_shape[x-3], [max_size, max_size])\n",
    "                back_5 = resize(video_box_shape[x-5], [max_size, max_size])\n",
    "                forward_3 = resize(video_box_shape[x + 3], [max_size, max_size])\n",
    "                forward_5 = resize(video_box_shape[x + 5], [max_size, max_size])\n",
    "                minus_3 = np.array(abs(frame_sized - back_3))\n",
    "                minus_5 = np.array(abs(frame_sized - back_5))\n",
    "                plus_3 = np.array(abs(frame_sized - forward_3))\n",
    "                plus_5 = np.array(abs(frame_sized - forward_5))\n",
    "                frame_list.append([minus_3, minus_5, plus_3, plus_5])#, frame_sized])\n",
    "                round_num += 1\n",
    "            else:\n",
    "                pass\n",
    "    frame_list = np.array(frame_list)\n",
    "    #reshape\n",
    "    ndims = frame_list.shape[1] * frame_list.shape[2] * frame_list.shape[3] * frame_list.shape[4]\n",
    "    frame_list_ = frame_list.reshape(frame_list.shape[0], ndims)\n",
    "    return frame_list_"
   ]
  },
  {
   "cell_type": "code",
   "execution_count": null,
   "metadata": {},
   "outputs": [],
   "source": [
    "#consider returning a list of arrays, eg process x number of videos at a time\n",
    "def download_video_from_s3_bucket(video_name, aws_key=key_, aws_secret=secret_, bucket=s3_bucket):\n",
    "    '''\n",
    "    ##Intended for use when not using Sagemaker##\n",
    "    takes a video name as input, and returns a downloaded video from s3 bucket \n",
    "    '''\n",
    "    s3 = boto3.client('s3', aws_access_key_id=aws_key, aws_secret_access_key=aws_secret)\n",
    "    s3.download_file(bucket, video_name, video_name)\n",
    "    video_array = sk.vread(video_name)\n",
    "    os.remove(video_name)\n",
    "    return video_array\n",
    "    "
   ]
  },
  {
   "cell_type": "code",
   "execution_count": null,
   "metadata": {},
   "outputs": [],
   "source": [
    "def get_video(video, computer=True):\n",
    "    '''\n",
    "    takes a video name, and if you are using a computer as input\n",
    "    calls appropiate function to download video from s3 bucket, depending if you are using a computer or sagemaker\n",
    "    '''\n",
    "    if computer==True:\n",
    "        response = download_video_from_s3_bucket(video)\n",
    "    #todo - create function to obtain video via sagemaker notebook instance\n",
    "    #once created, call function below\n",
    "    else:\n",
    "        response = 0\n",
    "    \n",
    "    x_values = preprocess_video(response)\n",
    "    y_value = meta[video]['label']\n",
    "    y_values = []\n",
    "    for frame in np.arange(0, len(x_values)):\n",
    "        if y_value == 'FAKE':\n",
    "            y_values.append(0)\n",
    "        else:\n",
    "            y_values.append(1)\n",
    "    y_values_ = to_categorical(y_values, num_classes=2)\n",
    "    return x_values, y_values_"
   ]
  },
  {
   "cell_type": "code",
   "execution_count": null,
   "metadata": {},
   "outputs": [],
   "source": []
  },
  {
   "cell_type": "code",
   "execution_count": null,
   "metadata": {},
   "outputs": [],
   "source": [
    "\n"
   ]
  },
  {
   "cell_type": "code",
   "execution_count": null,
   "metadata": {},
   "outputs": [],
   "source": [
    "def generator(video_dictionary, batch_size=1, train=True):\n",
    "    '''\n",
    "    takes a dictionary or list of video names, and returns the output from get_video function for one video at a time\n",
    "    if train is set to false, the list will be randomized initially\n",
    "    '''\n",
    "    count = 0\n",
    "    video_list = []\n",
    "    for video in video_dictionary:\n",
    "        video_list.append(video)\n",
    "    #split dataset into training and testing sets\n",
    "    _, _, y_train, y_test = train_test_split(video_list, video_list, test_size=.1, random_state=3)\n",
    "    #if not training, set the video list to the test set, otherwise set it to the training set\n",
    "    if train == False:\n",
    "        video_list_ = y_test\n",
    "    else:\n",
    "        video_list_ = y_train\n",
    "    random.shuffle(video_list_)\n",
    "    while True:\n",
    "#         x_batch = np.empty(0)\n",
    "#         y_batch = np.empty(0)\n",
    "        for x in np.arange(0, batch_size):\n",
    "            if count == len(video_list_):\n",
    "                count = 0\n",
    "                random.shuffle(video_list_)\n",
    "            x, y = get_video(video_list_[count])\n",
    "#         yield x_batch, y_batch\n",
    "        yield x, y\n"
   ]
  },
  {
   "cell_type": "code",
   "execution_count": null,
   "metadata": {},
   "outputs": [],
   "source": [
    "#consider eventually hardcoding the x shape\n",
    "# x, y = get_video('vpmyeepbep.mp4')"
   ]
  },
  {
   "cell_type": "code",
   "execution_count": null,
   "metadata": {},
   "outputs": [],
   "source": [
    "# y.shape"
   ]
  },
  {
   "cell_type": "code",
   "execution_count": null,
   "metadata": {},
   "outputs": [],
   "source": [
    "# x.shape"
   ]
  },
  {
   "cell_type": "code",
   "execution_count": null,
   "metadata": {},
   "outputs": [],
   "source": []
  },
  {
   "cell_type": "code",
   "execution_count": null,
   "metadata": {},
   "outputs": [],
   "source": [
    "model = Sequential()\n",
    "model.add(Dense(100, activation='relu', input_dim=1190700)) #input_dim=x.shape[1] <- hard code the input_dim\n",
    "model.add(Dense(100, activation='relu'))\n",
    "model.add(Activation('relu'))\n",
    "#output layer\n",
    "model.add(Dense(2, activation='softmax'))\n",
    "model.compile(loss=keras.losses.categorical_crossentropy,\n",
    "              optimizer='adam',\n",
    "              metrics=['accuracy'])"
   ]
  },
  {
   "cell_type": "code",
   "execution_count": null,
   "metadata": {},
   "outputs": [],
   "source": [
    "model.fit(x=generator(meta, 1), validation_data=generator(meta, 1, train=False))"
   ]
  },
  {
   "cell_type": "code",
   "execution_count": null,
   "metadata": {},
   "outputs": [],
   "source": [
    "model.metrics_names"
   ]
  },
  {
   "cell_type": "code",
   "execution_count": null,
   "metadata": {},
   "outputs": [],
   "source": [
    "x, _ = get_video('xpzfhhwkwb.mp4') # fake video\n",
    "model.predict(x)"
   ]
  },
  {
   "cell_type": "code",
   "execution_count": null,
   "metadata": {},
   "outputs": [],
   "source": [
    "x, _ = get_video('xmkwsnuzyq.mp4')\n",
    "model.predict(x) #real video"
   ]
  },
  {
   "cell_type": "code",
   "execution_count": null,
   "metadata": {},
   "outputs": [],
   "source": [
    "model.summary()"
   ]
  },
  {
   "cell_type": "code",
   "execution_count": null,
   "metadata": {},
   "outputs": [],
   "source": [
    "model.to_json()"
   ]
  },
  {
   "cell_type": "code",
   "execution_count": null,
   "metadata": {},
   "outputs": [],
   "source": [
    "# model.save_weights('sample_model.m5')\n",
    "video_list = []\n",
    "for x in meta:\n",
    "    video_list.append(x)"
   ]
  },
  {
   "cell_type": "code",
   "execution_count": null,
   "metadata": {},
   "outputs": [],
   "source": []
  },
  {
   "cell_type": "code",
   "execution_count": null,
   "metadata": {},
   "outputs": [],
   "source": []
  }
 ],
 "metadata": {
  "kernelspec": {
   "display_name": "Python 3",
   "language": "python",
   "name": "python3"
  },
  "language_info": {
   "codemirror_mode": {
    "name": "ipython",
    "version": 3
   },
   "file_extension": ".py",
   "mimetype": "text/x-python",
   "name": "python",
   "nbconvert_exporter": "python",
   "pygments_lexer": "ipython3",
   "version": "3.7.3"
  }
 },
 "nbformat": 4,
 "nbformat_minor": 2
}
